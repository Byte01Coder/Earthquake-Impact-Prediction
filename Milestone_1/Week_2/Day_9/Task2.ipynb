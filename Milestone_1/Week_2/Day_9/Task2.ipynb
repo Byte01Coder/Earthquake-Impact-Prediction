{
 "cells": [
  {
   "cell_type": "markdown",
   "id": "f3e1277a",
   "metadata": {},
   "source": [
    "# Practise"
   ]
  },
  {
   "cell_type": "markdown",
   "id": "05a3a49b",
   "metadata": {},
   "source": [
    "### Dataset for practise"
   ]
  },
  {
   "cell_type": "code",
   "execution_count": 1,
   "id": "83092f64",
   "metadata": {},
   "outputs": [
    {
     "name": "stderr",
     "output_type": "stream",
     "text": [
      "C:\\Users\\hp\\AppData\\Local\\Temp\\ipykernel_22940\\3058238868.py:30: FutureWarning: Setting an item of incompatible dtype is deprecated and will raise an error in a future version of pandas. Value '['31.40565600060867cm' '23.723443878559706cm' '48.6944754257072cm'\n",
      " '47.7445897977863cm' '12.199264419087633cm' '28.255294989080216cm'\n",
      " '49.46319556401813cm' '24.62082473109778cm' '14.069842039264948cm'\n",
      " '30.047591231707173cm' '39.596908878071915cm' '47.903273405497885cm'\n",
      " '18.383678364591226cm' '20.573119172482315cm' '26.918929348570554cm'\n",
      " '49.60956000856316cm' '42.872544601068384cm' '47.28354972175643cm' nan\n",
      " nan '36.95711914375434cm' nan '25.124837252276944cm'\n",
      " '41.69467488795425cm' '28.67398840853555cm' '31.546329651552767cm'\n",
      " '14.629781437963878cm' '10.509502547356245cm' '18.213990989134608cm'\n",
      " '24.690622519316705cm' '23.881006122675878cm' '16.30134384410546cm' nan\n",
      " '29.66207244015815cm' nan '45.91010976816148cm' nan\n",
      " '31.599083317303908cm' '25.60501244185592cm' '43.06120649429532cm' nan\n",
      " '12.847775069640711cm' '12.664116985961948cm' '47.658679896221cm'\n",
      " '33.2449203552472cm' '39.08764020242252cm' '28.33330050691903cm'\n",
      " '22.962576174780793cm' '27.894375469792145cm' '32.038131009330215cm'\n",
      " '14.575393291450958cm' nan nan '11.712756967808463cm' nan\n",
      " '43.763098510017656cm' nan '30.811616852539903cm' '37.395658619063596cm'\n",
      " '28.1338454756111cm' '27.96849795184873cm' '10.60064593668383cm'\n",
      " '24.62269124743047cm' nan '35.59967475048515cm' '10.62981749252967cm'\n",
      " '29.56236762958236cm' '24.02157279243951cm' '20.724977212451382cm'\n",
      " '45.97566419756147cm' '39.53174948578872cm' '40.18091625619654cm'\n",
      " '31.792529976304664cm' '45.01839317252149cm' '38.4030089783188cm']' has dtype incompatible with float64, please explicitly cast to a compatible dtype first.\n",
      "  df_untidy.loc[df_untidy.sample(frac=0.15, random_state=1).index, 'Height_cm'] = \\\n",
      "C:\\Users\\hp\\AppData\\Local\\Temp\\ipykernel_22940\\3058238868.py:33: FutureWarning: Setting an item of incompatible dtype is deprecated and will raise an error in a future version of pandas. Value '['Rating: 3.0' 'Rating: 5.0' 'Rating: 2.0' 'Rating: 3.0' 'Rating: 1.0' nan\n",
      " 'Rating: 5.0' 'Rating: 3.0' 'Rating: 2.0' 'Rating: 2.0' 'Rating: 4.0'\n",
      " 'Rating: 3.0' 'Rating: 1.0' 'Rating: 3.0' nan 'Rating: 1.0' 'Rating: 1.0'\n",
      " 'Rating: 2.0' 'Rating: 2.0' 'Rating: 4.0' 'Rating: 5.0' 'Rating: 4.0'\n",
      " 'Rating: 4.0' 'Rating: 4.0' 'Rating: 3.0' 'Rating: 5.0' 'Rating: 2.0' nan\n",
      " 'Rating: 3.0' 'Rating: 2.0' 'Rating: 3.0' 'Rating: 4.0' nan 'Rating: 4.0'\n",
      " 'Rating: 1.0' 'Rating: 5.0' nan 'Rating: 3.0' 'Rating: 3.0' 'Rating: 3.0'\n",
      " 'Rating: 4.0' 'Rating: 2.0' 'Rating: 1.0' 'Rating: 4.0' nan 'Rating: 5.0'\n",
      " 'Rating: 4.0' 'Rating: 1.0' 'Rating: 4.0' 'Rating: 3.0' 'Rating: 2.0'\n",
      " 'Rating: 5.0' 'Rating: 3.0' 'Rating: 3.0' 'Rating: 2.0' 'Rating: 3.0' nan\n",
      " 'Rating: 1.0' 'Rating: 5.0' 'Rating: 2.0' 'Rating: 1.0' 'Rating: 2.0' nan\n",
      " 'Rating: 4.0' 'Rating: 4.0' 'Rating: 1.0' 'Rating: 1.0' 'Rating: 4.0'\n",
      " 'Rating: 3.0' 'Rating: 5.0' 'Rating: 1.0' nan nan nan 'Rating: 5.0']' has dtype incompatible with float64, please explicitly cast to a compatible dtype first.\n",
      "  df_untidy.loc[df_untidy.sample(frac=0.15, random_state=2).index, 'Rating'] = \\\n"
     ]
    },
    {
     "data": {
      "text/html": [
       "<div>\n",
       "<style scoped>\n",
       "    .dataframe tbody tr th:only-of-type {\n",
       "        vertical-align: middle;\n",
       "    }\n",
       "\n",
       "    .dataframe tbody tr th {\n",
       "        vertical-align: top;\n",
       "    }\n",
       "\n",
       "    .dataframe thead th {\n",
       "        text-align: right;\n",
       "    }\n",
       "</style>\n",
       "<table border=\"1\" class=\"dataframe\">\n",
       "  <thead>\n",
       "    <tr style=\"text-align: right;\">\n",
       "      <th></th>\n",
       "      <th>Score</th>\n",
       "      <th>Height_cm</th>\n",
       "      <th>Rating</th>\n",
       "      <th>Fruit</th>\n",
       "      <th>Group</th>\n",
       "      <th>IsActive</th>\n",
       "    </tr>\n",
       "  </thead>\n",
       "  <tbody>\n",
       "    <tr>\n",
       "      <th>0</th>\n",
       "      <td>-1.085631</td>\n",
       "      <td>NaN</td>\n",
       "      <td>2.0</td>\n",
       "      <td>banana</td>\n",
       "      <td>D</td>\n",
       "      <td>Yes</td>\n",
       "    </tr>\n",
       "    <tr>\n",
       "      <th>1</th>\n",
       "      <td>0.997345</td>\n",
       "      <td>16.480034</td>\n",
       "      <td>Rating: 5.0</td>\n",
       "      <td>apple</td>\n",
       "      <td>A</td>\n",
       "      <td>No</td>\n",
       "    </tr>\n",
       "    <tr>\n",
       "      <th>2</th>\n",
       "      <td>0.282978</td>\n",
       "      <td>49.244711</td>\n",
       "      <td>NaN</td>\n",
       "      <td>banana</td>\n",
       "      <td>B</td>\n",
       "      <td>No</td>\n",
       "    </tr>\n",
       "    <tr>\n",
       "      <th>3</th>\n",
       "      <td>-1.506295</td>\n",
       "      <td>NaN</td>\n",
       "      <td>3.0</td>\n",
       "      <td>grape</td>\n",
       "      <td>D</td>\n",
       "      <td>nan</td>\n",
       "    </tr>\n",
       "    <tr>\n",
       "      <th>4</th>\n",
       "      <td>-0.578600</td>\n",
       "      <td>31.599083317303908cm</td>\n",
       "      <td>NaN</td>\n",
       "      <td>banana</td>\n",
       "      <td>C</td>\n",
       "      <td>No</td>\n",
       "    </tr>\n",
       "  </tbody>\n",
       "</table>\n",
       "</div>"
      ],
      "text/plain": [
       "      Score             Height_cm       Rating   Fruit Group IsActive\n",
       "0 -1.085631                   NaN          2.0  banana     D      Yes\n",
       "1  0.997345             16.480034  Rating: 5.0   apple     A       No\n",
       "2  0.282978             49.244711          NaN  banana     B       No\n",
       "3 -1.506295                   NaN          3.0   grape     D      nan\n",
       "4 -0.578600  31.599083317303908cm          NaN  banana     C       No"
      ]
     },
     "execution_count": 1,
     "metadata": {},
     "output_type": "execute_result"
    }
   ],
   "source": [
    "import pandas as pd\n",
    "import numpy as np\n",
    "\n",
    "np.random.seed(123)\n",
    "\n",
    "# Generate numerical columns with NaN values\n",
    "num1 = np.random.randn(500)\n",
    "num2 = np.random.uniform(10, 50, size=500)\n",
    "num3 = np.random.randint(1, 6, size=500).astype('float')\n",
    "num1[np.random.choice(500, 60, replace=False)] = np.nan\n",
    "num2[np.random.choice(500, 60, replace=False)] = np.nan\n",
    "num3[np.random.choice(500, 60, replace=False)] = np.nan\n",
    "\n",
    "# Generate messy categorical/text columns\n",
    "cat1 = np.random.choice(['apple', 'banana', 'grape', np.nan], size=500, p=[0.3, 0.3, 0.3, 0.1])\n",
    "cat2 = np.random.choice(['A', 'B', 'C', 'D'], size=500)\n",
    "cat3 = np.random.choice(['Yes', 'No', np.nan], size=500, p=[0.45, 0.45, 0.10])\n",
    "\n",
    "# Combine into DataFrame and add untidiness\n",
    "df_untidy = pd.DataFrame({\n",
    "    'Score': num1,\n",
    "    'Height_cm': num2,\n",
    "    'Rating': num3,\n",
    "    'Fruit': cat1,\n",
    "    'Group': cat2,\n",
    "    'IsActive': cat3\n",
    "})\n",
    "\n",
    "# Add untidy issues:\n",
    "df_untidy.loc[df_untidy.sample(frac=0.15, random_state=1).index, 'Height_cm'] = \\\n",
    "    df_untidy['Height_cm'].dropna().astype(str) + 'cm'   # Mix data type in Height_cm\n",
    "\n",
    "df_untidy.loc[df_untidy.sample(frac=0.15, random_state=2).index, 'Rating'] = \\\n",
    "    'Rating: ' + df_untidy['Rating'].dropna().astype(str) # Prefix string for some ratings\n",
    "\n",
    "df_untidy.head()\n"
   ]
  },
  {
   "cell_type": "markdown",
   "id": "6c48871f",
   "metadata": {},
   "source": [
    "- Q1. Identify columns with missing values and demonstrate at least two methods for imputing or filling these missing values (e.g., mean for numerics, mode for categoricals)."
   ]
  },
  {
   "cell_type": "code",
   "execution_count": 2,
   "id": "24181f2c",
   "metadata": {},
   "outputs": [
    {
     "name": "stdout",
     "output_type": "stream",
     "text": [
      "Age     1\n",
      "City    1\n",
      "dtype: int64\n",
      "         Age     City\n",
      "0  25.000000    Delhi\n",
      "1  25.666667   Mumbai\n",
      "2  30.000000  Chennai\n",
      "3  22.000000  Chennai\n"
     ]
    },
    {
     "name": "stderr",
     "output_type": "stream",
     "text": [
      "C:\\Users\\hp\\AppData\\Local\\Temp\\ipykernel_22940\\1578568983.py:9: FutureWarning: A value is trying to be set on a copy of a DataFrame or Series through chained assignment using an inplace method.\n",
      "The behavior will change in pandas 3.0. This inplace method will never work because the intermediate object on which we are setting values always behaves as a copy.\n",
      "\n",
      "For example, when doing 'df[col].method(value, inplace=True)', try using 'df.method({col: value}, inplace=True)' or df[col] = df[col].method(value) instead, to perform the operation inplace on the original object.\n",
      "\n",
      "\n",
      "  df[\"Age\"].fillna(df[\"Age\"].mean(), inplace=True)\n",
      "C:\\Users\\hp\\AppData\\Local\\Temp\\ipykernel_22940\\1578568983.py:11: FutureWarning: A value is trying to be set on a copy of a DataFrame or Series through chained assignment using an inplace method.\n",
      "The behavior will change in pandas 3.0. This inplace method will never work because the intermediate object on which we are setting values always behaves as a copy.\n",
      "\n",
      "For example, when doing 'df[col].method(value, inplace=True)', try using 'df.method({col: value}, inplace=True)' or df[col] = df[col].method(value) instead, to perform the operation inplace on the original object.\n",
      "\n",
      "\n",
      "  df[\"City\"].fillna(df[\"City\"].mode()[0], inplace=True)\n"
     ]
    }
   ],
   "source": [
    "import pandas as pd\n",
    "\n",
    "df = pd.DataFrame({\n",
    "    \"Age\": [25, None, 30, 22],\n",
    "    \"City\": [\"Delhi\", \"Mumbai\", None, \"Chennai\"]\n",
    "})\n",
    "\n",
    "print(df.isnull().sum())\n",
    "df[\"Age\"].fillna(df[\"Age\"].mean(), inplace=True)\n",
    "\n",
    "df[\"City\"].fillna(df[\"City\"].mode()[0], inplace=True)\n",
    "\n",
    "print(df)"
   ]
  },
  {
   "cell_type": "markdown",
   "id": "2cca2d9b",
   "metadata": {},
   "source": [
    "- Q2.  Identify columns with non-numeric (categorical) data and convert them into a numeric format using encoding techniques such as one-hot encoding or label encoding."
   ]
  },
  {
   "cell_type": "code",
   "execution_count": 3,
   "id": "710a8c72",
   "metadata": {},
   "outputs": [
    {
     "name": "stdout",
     "output_type": "stream",
     "text": [
      "         Age  City_Label  City_Chennai  City_Delhi  City_Mumbai\n",
      "0  25.000000           1         False        True        False\n",
      "1  25.666667           2         False       False         True\n",
      "2  30.000000           0          True       False        False\n",
      "3  22.000000           0          True       False        False\n"
     ]
    }
   ],
   "source": [
    "df[\"City_Label\"] = df[\"City\"].astype(\"category\").cat.codes\n",
    "\n",
    "df_encoded = pd.get_dummies(df, columns=[\"City\"])\n",
    "print(df_encoded)"
   ]
  },
  {
   "cell_type": "markdown",
   "id": "712a6d0e",
   "metadata": {},
   "source": [
    "- Q3. Detect any columns in the DataFrame that contain mixed data types (such as numbers stored as strings or strings with prefixes). Write code to clean and convert these columns to appropriate, consistent types."
   ]
  },
  {
   "cell_type": "code",
   "execution_count": 4,
   "id": "d5f4ce74",
   "metadata": {},
   "outputs": [
    {
     "name": "stdout",
     "output_type": "stream",
     "text": [
      "         Age     City  City_Label  Salary\n",
      "0  25.000000    Delhi           1  1000.0\n",
      "1  25.666667   Mumbai           2  2000.0\n",
      "2  30.000000  Chennai           0     3.0\n",
      "3  22.000000  Chennai           0  4000.0\n"
     ]
    }
   ],
   "source": [
    "df[\"Salary\"] = [\"1000\", \"2000\", \"3k\", \"4000\"]\n",
    "\n",
    "df[\"Salary\"] = df[\"Salary\"].str.replace(r\"\\D\", \"\", regex=True).astype(float)\n",
    "print(df)"
   ]
  },
  {
   "cell_type": "markdown",
   "id": "2018da67",
   "metadata": {},
   "source": [
    "- Q4. Apply scaling and/or normalization techniques (such as Min-Max Scaling and Standardization) to the numerical columns to prepare them for downstream machine learning tasks."
   ]
  },
  {
   "cell_type": "code",
   "execution_count": 5,
   "id": "72d4a1cb",
   "metadata": {},
   "outputs": [
    {
     "name": "stdout",
     "output_type": "stream",
     "text": [
      "            Age     City  City_Label    Salary\n",
      "0 -2.332847e-01    Delhi           1 -0.507904\n",
      "1  3.107977e-16   Mumbai           2  0.168625\n",
      "2  1.516351e+00  Chennai           0 -1.182404\n",
      "3 -1.283066e+00  Chennai           0  1.521683\n"
     ]
    }
   ],
   "source": [
    "from sklearn.preprocessing import MinMaxScaler, StandardScaler\n",
    "\n",
    "scaler = MinMaxScaler()\n",
    "df[[\"Age\",\"Salary\"]] = scaler.fit_transform(df[[\"Age\",\"Salary\"]])\n",
    "\n",
    "scaler2 = StandardScaler()\n",
    "df[[\"Age\",\"Salary\"]] = scaler2.fit_transform(df[[\"Age\",\"Salary\"]])\n",
    "print(df)"
   ]
  },
  {
   "cell_type": "markdown",
   "id": "8f55d1a5",
   "metadata": {},
   "source": [
    "- Q5. Write a function to check for and report any remaining inconsistencies (missing values, mixed types, out-of-range values) in the cleaned DataFrame. Validate that the preprocessing steps have successfully prepared the data for analysis."
   ]
  },
  {
   "cell_type": "code",
   "execution_count": 6,
   "id": "b79e7fc5",
   "metadata": {},
   "outputs": [
    {
     "name": "stdout",
     "output_type": "stream",
     "text": [
      "{'missing_values': {'Age': 0, 'City': 0, 'City_Label': 0, 'Salary': 0}, 'dtypes': {'Age': dtype('float64'), 'City': dtype('O'), 'City_Label': dtype('int8'), 'Salary': dtype('float64')}, 'out_of_range': {'Age': 2, 'City_Label': 0, 'Salary': 2}}\n"
     ]
    }
   ],
   "source": [
    "def check(data):\n",
    "    return {\n",
    "        \"missing_values\": data.isnull().sum().to_dict(),\n",
    "        \"dtypes\": data.dtypes.to_dict(),\n",
    "        \"out_of_range\": {col: ((data[col]<0).sum()) for col in data.select_dtypes(include=\"number\")}\n",
    "    }\n",
    "\n",
    "print(check(df))\n"
   ]
  },
  {
   "cell_type": "markdown",
   "id": "128fbd47",
   "metadata": {},
   "source": []
  }
 ],
 "metadata": {
  "kernelspec": {
   "display_name": "Python 3",
   "language": "python",
   "name": "python3"
  },
  "language_info": {
   "codemirror_mode": {
    "name": "ipython",
    "version": 3
   },
   "file_extension": ".py",
   "mimetype": "text/x-python",
   "name": "python",
   "nbconvert_exporter": "python",
   "pygments_lexer": "ipython3",
   "version": "3.10.0"
  }
 },
 "nbformat": 4,
 "nbformat_minor": 5
}
